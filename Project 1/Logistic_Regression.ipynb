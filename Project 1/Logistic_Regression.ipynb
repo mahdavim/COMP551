{
  "nbformat": 4,
  "nbformat_minor": 0,
  "metadata": {
    "colab": {
      "provenance": []
    },
    "kernelspec": {
      "name": "python3",
      "display_name": "Python 3"
    },
    "language_info": {
      "name": "python"
    }
  },
  "cells": [
    {
      "cell_type": "markdown",
      "source": [
        "#Logistic regression"
      ],
      "metadata": {
        "id": "IIz26-fyOEa-"
      }
    },
    {
      "cell_type": "code",
      "execution_count": null,
      "metadata": {
        "id": "-amL8d1eNsYh"
      },
      "outputs": [],
      "source": [
        "import numpy as np\n",
        "import pandas as pd\n",
        "import seaborn as sns\n",
        "#%matplotlib notebook\n",
        "%matplotlib inline\n",
        "import matplotlib.pyplot as plt\n",
        "from matplotlib.backend_bases import transforms\n",
        "from sklearn.model_selection import train_test_split\n",
        "from sklearn.metrics import classification_report, roc_auc_score, f1_score\n",
        "from sklearn.preprocessing import OneHotEncoder\n",
        "from IPython.core.debugger import set_trace\n",
        "from google.colab import files    \n",
        "import warnings\n",
        "warnings.filterwarnings('ignore')\n",
        "\n",
        "logistic = lambda z: 1./ (1 + np.exp(-z)) # Defining logistic function for later use"
      ]
    },
    {
      "cell_type": "markdown",
      "source": [
        "##Logistic regression data class"
      ],
      "metadata": {
        "id": "yUSawgz_Hf3-"
      }
    },
    {
      "cell_type": "code",
      "source": [
        "class LogRegData:\n",
        "    '''\n",
        "    Logistic regression data class. The class loads the data, calculates the\n",
        "    statistical summaries, and prints them. The split function splits the data\n",
        "    into train-test parts based on a given ratio.\n",
        "    \n",
        "    pth: Path to the data location\n",
        "    '''\n",
        "    def __init__(self, pth):\n",
        "        self.dat     = pd.read_csv(pth, delimiter=',', header=None)\n",
        "        self.n       = self.dat.shape[0]\n",
        "        self.x_train = None\n",
        "        self.y_train = None\n",
        "        self.x_test  = None     \n",
        "        self.y_test  = None\n",
        "             \n",
        "    def stat_sum(self, prnt, save):\n",
        "        #Provide statistical summary of the data\n",
        "        \n",
        "        stat_sum = pd.DataFrame(self.dat.describe(include='all'))\n",
        "        cat_1 = (self.dat[0].value_counts()/self.n)#Categorical data\n",
        "        cat_2 = (self.dat[1].value_counts()/self.n)\n",
        "        cat_3 = (self.dat[2].value_counts()/self.n)\n",
        "        cat_4 = (self.dat[3].value_counts()/self.n)\n",
        "        cat_5 = (self.dat[4].value_counts()/self.n)\n",
        "        cat_6 = (self.dat[5].value_counts()/self.n)\n",
        "        all_cat = pd.concat([cat_1, cat_2, cat_3, cat_4, cat_5, cat_6], axis=1)\n",
        "        all_cat.columns = [\"Ind. Risk\", \"Man. Risk\", \"Fin. Flex.\",\n",
        "                    \"Cred.\", \"Comp.\", \"Op. Risk\"]\n",
        "        results_dat = pd.concat([self.dat[6].value_counts()/self.n], axis=1)\n",
        "        results_dat.columns = [\"Class\"]\n",
        "      \n",
        "        if prnt:\n",
        "            print(stat_sum)\n",
        "            print()\n",
        "            print('Categorical data:')\n",
        "            print(all_cat)\n",
        "            print()\n",
        "            print('Results data:')\n",
        "            print(results_dat)\n",
        "            print()\n",
        "            print_bankruptcy_percentages()\n",
        "        if save: \n",
        "            stat_sum.to_excel('statistical_summary.xlsx')\n",
        "            all_cat.to_excel('categorical_statistical_summary.xlsx')\n",
        "        \n",
        "    def split(self, tst_ratio, rnd_stat=100):        \n",
        "        # Split into train test sets. The outcomes are B (bankrupt) and NB\n",
        "        # (non-bankrupt) in column 6 of the data.\n",
        "        x_train, x_test, y_train, y_test = train_test_split(self.dat.iloc[:, 0:6],\n",
        "                                                               self.dat.iloc[:, 6],\n",
        "                                                               test_size=tst_ratio,\n",
        "                                                               random_state=rnd_stat, \n",
        "                                                               stratify=self.dat.iloc[:, 6])\n",
        "        self.x_train = x_train.values\n",
        "        self.x_test  = x_test.values\n",
        "        self.y_train = y_train.values\n",
        "        self.y_test  = y_test.values\n",
        "\n",
        "\n",
        "    def dum_coder(self, train, test, cat_dat=[0,1,2,3,4,5]): \n",
        "        '''\n",
        "        Perform dummy one-hot encoding for the attribute info columns (x values)\n",
        "        and separately the output column (y values)\n",
        "        train: train set data\n",
        "        test: test set data\n",
        "        cat_dat: index of the categorical data columns in test and train sets\n",
        "        '''\n",
        "        train_matrix = np.zeros((train.shape[0],1))\n",
        "        test_matrix= np.zeros((test.shape[0],1))\n",
        "\n",
        "        enc = OneHotEncoder(drop=\"first\", sparse=False)\n",
        "        \n",
        "        for cat in cat_dat:\n",
        "            # One hot encoding the train and test sets\n",
        "            # Must have condition because the y data is a 1D array\n",
        "            if len(cat_dat) > 1: # AKA if we're one hot encoding the x data\n",
        "              tmp_dat_trn = enc.fit_transform(train[:,cat].reshape(-1,1))\n",
        "              tmp_dat_tst = enc.fit_transform(test[:,cat].reshape(-1,1))\n",
        "\n",
        "            else: # AKA if we're one hot encoding the y data\n",
        "              tmp_dat_trn = enc.fit_transform(train.reshape(-1,1))\n",
        "              tmp_dat_tst = enc.fit_transform(test.reshape(-1,1))\n",
        "\n",
        "            # Concatenating the previously-generated data into the corresponding zero matrix\n",
        "            train_matrix = np.concatenate((train_matrix, tmp_dat_trn), axis=1)\n",
        "            test_matrix = np.concatenate((test_matrix, tmp_dat_tst), axis=1)\n",
        "            \n",
        "        train=np.delete(train_matrix,0,1)\n",
        "        test=np.delete(test_matrix,0,1)\n",
        "\n",
        "        if len(cat_dat) > 1: # Dealing with x data\n",
        "          self.dum_x_train = train\n",
        "          self.dum_x_test = test\n",
        "        else: # Dealing with y data\n",
        "          self.dum_y_train = train\n",
        "          self.dum_y_test = test"
      ],
      "metadata": {
        "id": "ik2Y9vpdaWAt"
      },
      "execution_count": null,
      "outputs": []
    },
    {
      "cell_type": "markdown",
      "source": [
        "##Percent bankrupt info"
      ],
      "metadata": {
        "id": "LLY4o80HASZk"
      }
    },
    {
      "cell_type": "code",
      "source": [
        "def print_bankruptcy_percentages():\n",
        "    '''\n",
        "    Helper function for stat_sum, prints the percentage of instances with banktrupcy who have the given ratings for each attribute\n",
        "    '''\n",
        "    print(\"Industrial Risk = P: \" + str(len(rg_dat.dat[(rg_dat.dat[0] == 'P') & (rg_dat.dat[6] == 'B')]) / len(rg_dat.dat[rg_dat.dat[6] == 'B'])))\n",
        "    print(\"Industrial Risk = A: \" + str(len(rg_dat.dat[(rg_dat.dat[0] == 'A') & (rg_dat.dat[6] == 'B')]) / len(rg_dat.dat[rg_dat.dat[6] == 'B'])))\n",
        "    print(\"Industrial Risk = N: \" + str(len(rg_dat.dat[(rg_dat.dat[0] == 'N') & (rg_dat.dat[6] == 'B')]) / len(rg_dat.dat[rg_dat.dat[6] == 'B'])))\n",
        "\n",
        "    print(\"Management Risk = P: \" + str(len(rg_dat.dat[(rg_dat.dat[1] == 'P') & (rg_dat.dat[6] == 'B')]) / len(rg_dat.dat[rg_dat.dat[6] == 'B'])))\n",
        "    print(\"Management Risk = A: \" + str(len(rg_dat.dat[(rg_dat.dat[1] == 'A') & (rg_dat.dat[6] == 'B')]) / len(rg_dat.dat[rg_dat.dat[6] == 'B'])))\n",
        "    print(\"Management Risk = N: \" + str(len(rg_dat.dat[(rg_dat.dat[1] == 'N') & (rg_dat.dat[6] == 'B')]) / len(rg_dat.dat[rg_dat.dat[6] == 'B'])))\n",
        "\n",
        "    print(\"Financial Flexibility = P: \" + str(len(rg_dat.dat[(rg_dat.dat[2] == 'P') & (rg_dat.dat[6] == 'B')]) / len(rg_dat.dat[rg_dat.dat[6] == 'B'])))\n",
        "    print(\"Financial Flexibility = A: \" + str(len(rg_dat.dat[(rg_dat.dat[2] == 'A') & (rg_dat.dat[6] == 'B')]) / len(rg_dat.dat[rg_dat.dat[6] == 'B'])))\n",
        "    print(\"Financial Flexibility = N: \" + str(len(rg_dat.dat[(rg_dat.dat[2] == 'N') & (rg_dat.dat[6] == 'B')]) / len(rg_dat.dat[rg_dat.dat[6] == 'B'])))\n",
        "\n",
        "    print(\"Credibility = P: \" + str(len(rg_dat.dat[(rg_dat.dat[3] == 'P') & (rg_dat.dat[6] == 'B')]) / len(rg_dat.dat[rg_dat.dat[6] == 'B'])))\n",
        "    print(\"Credibility = A: \" + str(len(rg_dat.dat[(rg_dat.dat[3] == 'A') & (rg_dat.dat[6] == 'B')]) / len(rg_dat.dat[rg_dat.dat[6] == 'B'])))\n",
        "    print(\"Credibility = N: \" + str(len(rg_dat.dat[(rg_dat.dat[3] == 'N') & (rg_dat.dat[6] == 'B')]) / len(rg_dat.dat[rg_dat.dat[6] == 'B'])))\n",
        "\n",
        "    print(\"Competitiveness = P: \" + str(len(rg_dat.dat[(rg_dat.dat[4] == 'P') & (rg_dat.dat[6] == 'B')]) / len(rg_dat.dat[rg_dat.dat[6] == 'B'])))\n",
        "    print(\"Competitiveness = A: \" + str(len(rg_dat.dat[(rg_dat.dat[4] == 'A') & (rg_dat.dat[6] == 'B')]) / len(rg_dat.dat[rg_dat.dat[6] == 'B'])))\n",
        "    print(\"Competitiveness = N: \" + str(len(rg_dat.dat[(rg_dat.dat[4] == 'N') & (rg_dat.dat[6] == 'B')]) / len(rg_dat.dat[rg_dat.dat[6] == 'B'])))\n",
        "\n",
        "    print(\"Operating Risk = P: \" + str(len(rg_dat.dat[(rg_dat.dat[5] == 'P') & (rg_dat.dat[6] == 'B')]) / len(rg_dat.dat[rg_dat.dat[6] == 'B'])))\n",
        "    print(\"Operating Risk = A: \" + str(len(rg_dat.dat[(rg_dat.dat[5] == 'A') & (rg_dat.dat[6] == 'B')]) / len(rg_dat.dat[rg_dat.dat[6] == 'B'])))\n",
        "    print(\"Operating Risk = N: \" + str(len(rg_dat.dat[(rg_dat.dat[5] == 'N') & (rg_dat.dat[6] == 'B')]) / len(rg_dat.dat[rg_dat.dat[6] == 'B'])))"
      ],
      "metadata": {
        "id": "YYhmQw4FAQpk"
      },
      "execution_count": null,
      "outputs": []
    },
    {
      "cell_type": "markdown",
      "source": [
        "##Uploading data file and showing summary"
      ],
      "metadata": {
        "id": "i_CMVbzStXEM"
      }
    },
    {
      "cell_type": "code",
      "source": [
        "# Need to upload the data into colab first\n",
        "uploaded = files.upload()\n",
        "\n",
        "pth = 'Qualitative_Bankruptcy.data.txt' # Path to load the data\n",
        "rg_dat = LogRegData(pth) # Initializing the logistic regression data instance\n",
        "rg_dat.stat_sum(prnt=True, save=False) #"
      ],
      "metadata": {
        "colab": {
          "base_uri": "https://localhost:8080/",
          "height": 699
        },
        "id": "gHFYWzEXZu7G",
        "outputId": "071b6692-3609-420a-d7bf-711014033efb"
      },
      "execution_count": null,
      "outputs": [
        {
          "output_type": "display_data",
          "data": {
            "text/plain": [
              "<IPython.core.display.HTML object>"
            ],
            "text/html": [
              "\n",
              "     <input type=\"file\" id=\"files-fc1c7473-2011-45f9-b9e9-2129f49ace58\" name=\"files[]\" multiple disabled\n",
              "        style=\"border:none\" />\n",
              "     <output id=\"result-fc1c7473-2011-45f9-b9e9-2129f49ace58\">\n",
              "      Upload widget is only available when the cell has been executed in the\n",
              "      current browser session. Please rerun this cell to enable.\n",
              "      </output>\n",
              "      <script>// Copyright 2017 Google LLC\n",
              "//\n",
              "// Licensed under the Apache License, Version 2.0 (the \"License\");\n",
              "// you may not use this file except in compliance with the License.\n",
              "// You may obtain a copy of the License at\n",
              "//\n",
              "//      http://www.apache.org/licenses/LICENSE-2.0\n",
              "//\n",
              "// Unless required by applicable law or agreed to in writing, software\n",
              "// distributed under the License is distributed on an \"AS IS\" BASIS,\n",
              "// WITHOUT WARRANTIES OR CONDITIONS OF ANY KIND, either express or implied.\n",
              "// See the License for the specific language governing permissions and\n",
              "// limitations under the License.\n",
              "\n",
              "/**\n",
              " * @fileoverview Helpers for google.colab Python module.\n",
              " */\n",
              "(function(scope) {\n",
              "function span(text, styleAttributes = {}) {\n",
              "  const element = document.createElement('span');\n",
              "  element.textContent = text;\n",
              "  for (const key of Object.keys(styleAttributes)) {\n",
              "    element.style[key] = styleAttributes[key];\n",
              "  }\n",
              "  return element;\n",
              "}\n",
              "\n",
              "// Max number of bytes which will be uploaded at a time.\n",
              "const MAX_PAYLOAD_SIZE = 100 * 1024;\n",
              "\n",
              "function _uploadFiles(inputId, outputId) {\n",
              "  const steps = uploadFilesStep(inputId, outputId);\n",
              "  const outputElement = document.getElementById(outputId);\n",
              "  // Cache steps on the outputElement to make it available for the next call\n",
              "  // to uploadFilesContinue from Python.\n",
              "  outputElement.steps = steps;\n",
              "\n",
              "  return _uploadFilesContinue(outputId);\n",
              "}\n",
              "\n",
              "// This is roughly an async generator (not supported in the browser yet),\n",
              "// where there are multiple asynchronous steps and the Python side is going\n",
              "// to poll for completion of each step.\n",
              "// This uses a Promise to block the python side on completion of each step,\n",
              "// then passes the result of the previous step as the input to the next step.\n",
              "function _uploadFilesContinue(outputId) {\n",
              "  const outputElement = document.getElementById(outputId);\n",
              "  const steps = outputElement.steps;\n",
              "\n",
              "  const next = steps.next(outputElement.lastPromiseValue);\n",
              "  return Promise.resolve(next.value.promise).then((value) => {\n",
              "    // Cache the last promise value to make it available to the next\n",
              "    // step of the generator.\n",
              "    outputElement.lastPromiseValue = value;\n",
              "    return next.value.response;\n",
              "  });\n",
              "}\n",
              "\n",
              "/**\n",
              " * Generator function which is called between each async step of the upload\n",
              " * process.\n",
              " * @param {string} inputId Element ID of the input file picker element.\n",
              " * @param {string} outputId Element ID of the output display.\n",
              " * @return {!Iterable<!Object>} Iterable of next steps.\n",
              " */\n",
              "function* uploadFilesStep(inputId, outputId) {\n",
              "  const inputElement = document.getElementById(inputId);\n",
              "  inputElement.disabled = false;\n",
              "\n",
              "  const outputElement = document.getElementById(outputId);\n",
              "  outputElement.innerHTML = '';\n",
              "\n",
              "  const pickedPromise = new Promise((resolve) => {\n",
              "    inputElement.addEventListener('change', (e) => {\n",
              "      resolve(e.target.files);\n",
              "    });\n",
              "  });\n",
              "\n",
              "  const cancel = document.createElement('button');\n",
              "  inputElement.parentElement.appendChild(cancel);\n",
              "  cancel.textContent = 'Cancel upload';\n",
              "  const cancelPromise = new Promise((resolve) => {\n",
              "    cancel.onclick = () => {\n",
              "      resolve(null);\n",
              "    };\n",
              "  });\n",
              "\n",
              "  // Wait for the user to pick the files.\n",
              "  const files = yield {\n",
              "    promise: Promise.race([pickedPromise, cancelPromise]),\n",
              "    response: {\n",
              "      action: 'starting',\n",
              "    }\n",
              "  };\n",
              "\n",
              "  cancel.remove();\n",
              "\n",
              "  // Disable the input element since further picks are not allowed.\n",
              "  inputElement.disabled = true;\n",
              "\n",
              "  if (!files) {\n",
              "    return {\n",
              "      response: {\n",
              "        action: 'complete',\n",
              "      }\n",
              "    };\n",
              "  }\n",
              "\n",
              "  for (const file of files) {\n",
              "    const li = document.createElement('li');\n",
              "    li.append(span(file.name, {fontWeight: 'bold'}));\n",
              "    li.append(span(\n",
              "        `(${file.type || 'n/a'}) - ${file.size} bytes, ` +\n",
              "        `last modified: ${\n",
              "            file.lastModifiedDate ? file.lastModifiedDate.toLocaleDateString() :\n",
              "                                    'n/a'} - `));\n",
              "    const percent = span('0% done');\n",
              "    li.appendChild(percent);\n",
              "\n",
              "    outputElement.appendChild(li);\n",
              "\n",
              "    const fileDataPromise = new Promise((resolve) => {\n",
              "      const reader = new FileReader();\n",
              "      reader.onload = (e) => {\n",
              "        resolve(e.target.result);\n",
              "      };\n",
              "      reader.readAsArrayBuffer(file);\n",
              "    });\n",
              "    // Wait for the data to be ready.\n",
              "    let fileData = yield {\n",
              "      promise: fileDataPromise,\n",
              "      response: {\n",
              "        action: 'continue',\n",
              "      }\n",
              "    };\n",
              "\n",
              "    // Use a chunked sending to avoid message size limits. See b/62115660.\n",
              "    let position = 0;\n",
              "    do {\n",
              "      const length = Math.min(fileData.byteLength - position, MAX_PAYLOAD_SIZE);\n",
              "      const chunk = new Uint8Array(fileData, position, length);\n",
              "      position += length;\n",
              "\n",
              "      const base64 = btoa(String.fromCharCode.apply(null, chunk));\n",
              "      yield {\n",
              "        response: {\n",
              "          action: 'append',\n",
              "          file: file.name,\n",
              "          data: base64,\n",
              "        },\n",
              "      };\n",
              "\n",
              "      let percentDone = fileData.byteLength === 0 ?\n",
              "          100 :\n",
              "          Math.round((position / fileData.byteLength) * 100);\n",
              "      percent.textContent = `${percentDone}% done`;\n",
              "\n",
              "    } while (position < fileData.byteLength);\n",
              "  }\n",
              "\n",
              "  // All done.\n",
              "  yield {\n",
              "    response: {\n",
              "      action: 'complete',\n",
              "    }\n",
              "  };\n",
              "}\n",
              "\n",
              "scope.google = scope.google || {};\n",
              "scope.google.colab = scope.google.colab || {};\n",
              "scope.google.colab._files = {\n",
              "  _uploadFiles,\n",
              "  _uploadFilesContinue,\n",
              "};\n",
              "})(self);\n",
              "</script> "
            ]
          },
          "metadata": {}
        },
        {
          "output_type": "stream",
          "name": "stdout",
          "text": [
            "Saving Qualitative_Bankruptcy.data.txt to Qualitative_Bankruptcy.data (5).txt\n",
            "          0    1    2    3    4    5    6\n",
            "count   250  250  250  250  250  250  250\n",
            "unique    3    3    3    3    3    3    2\n",
            "top       N    N    N    N    N    N   NB\n",
            "freq     89  119  119   94  103  114  143\n",
            "\n",
            "Categorical data:\n",
            "   Ind. Risk  Man. Risk  Fin. Flex.  Cred.  Comp.  Op. Risk\n",
            "N      0.356      0.476       0.476  0.376  0.412     0.456\n",
            "A      0.324      0.276       0.296  0.308  0.224     0.228\n",
            "P      0.320      0.248       0.228  0.316  0.364     0.316\n",
            "\n",
            "Results data:\n",
            "    Class\n",
            "NB  0.572\n",
            "B   0.428\n",
            "\n",
            "Industrial Risk = P: 0.24299065420560748\n",
            "Industrial Risk = A: 0.2616822429906542\n",
            "Industrial Risk = N: 0.4953271028037383\n",
            "Management Risk = P: 0.102803738317757\n",
            "Management Risk = A: 0.21495327102803738\n",
            "Management Risk = N: 0.6822429906542056\n",
            "Financial Flexibility = P: 0.009345794392523364\n",
            "Financial Flexibility = A: 0.037383177570093455\n",
            "Financial Flexibility = N: 0.9532710280373832\n",
            "Credibility = P: 0.028037383177570093\n",
            "Credibility = A: 0.1588785046728972\n",
            "Credibility = N: 0.8130841121495327\n",
            "Competitiveness = P: 0.0\n",
            "Competitiveness = A: 0.037383177570093455\n",
            "Competitiveness = N: 0.9626168224299065\n",
            "Operating Risk = P: 0.17757009345794392\n",
            "Operating Risk = A: 0.22429906542056074\n",
            "Operating Risk = N: 0.5981308411214953\n"
          ]
        }
      ]
    },
    {
      "cell_type": "markdown",
      "source": [
        "##Cost function"
      ],
      "metadata": {
        "id": "pBBXtVPpOI8S"
      }
    },
    {
      "cell_type": "code",
      "source": [
        "def cost_fn(x, y, w):\n",
        "    N, D = x.shape                                                       \n",
        "    z = np.dot(x, w)\n",
        "    #log1p calculates log(1+x) to remove floating point inaccuracies \n",
        "    J = np.mean(y * np.log1p(np.exp(-z)) + (1-y) * np.log1p(np.exp(z)))\n",
        "    return J"
      ],
      "metadata": {
        "id": "4kKDzcbYOJ_P"
      },
      "execution_count": null,
      "outputs": []
    },
    {
      "cell_type": "markdown",
      "source": [
        "## Gradient function"
      ],
      "metadata": {
        "id": "aj0QT0SjsSp7"
      }
    },
    {
      "cell_type": "code",
      "source": [
        "def gradient( x, y, w, alpha, beta):\n",
        "    '''\n",
        "    Function to calculate the gradient. \n",
        "    x: input features\n",
        "    y: outcomes\n",
        "    w: weights\n",
        "    alpha: L2 regularization strength\n",
        "    beta: L1 regularization strength    \n",
        "    '''\n",
        "    y_pred =  logistic(np.dot(x, w))\n",
        "    dlt_y = y_pred - y\n",
        "    N, _ = x.shape\n",
        "    tmp_w = w.copy()  \n",
        "\n",
        "    grad = (np.dot(x.T, dlt_y)/N)\n",
        "\n",
        "    grad[:-1,:] += alpha * tmp_w[:-1,:].copy() # Beware of indexing. Using grd[:-1] will disrupt the shapes\n",
        "    grad[:-1,:] += beta * np.sign(tmp_w[:-1,:])\n",
        "\n",
        "    return grad"
      ],
      "metadata": {
        "id": "KSY3yWLWsSC9"
      },
      "execution_count": null,
      "outputs": []
    },
    {
      "cell_type": "markdown",
      "source": [
        "#Momentum function"
      ],
      "metadata": {
        "id": "QpBOxL5qhc8l"
      }
    },
    {
      "cell_type": "code",
      "source": [
        "def momntm(grad, prev_mnt, mn_beta=0):\n",
        "    '''\n",
        "    Function to calculate the momentum \n",
        "    grad: current gradient\n",
        "    prev_mnt: previous momentum\n",
        "    mn_beta: momentum beta, momentum ineffective at 0\n",
        "    '''\n",
        "    mmnt = mn_beta * prev_mnt + (1-mn_beta) * grad\n",
        "    return mmnt"
      ],
      "metadata": {
        "id": "C96Jmff5hfyP"
      },
      "execution_count": null,
      "outputs": []
    },
    {
      "cell_type": "markdown",
      "source": [
        "#Logistic regression class"
      ],
      "metadata": {
        "id": "UXq58WfLq0lN"
      }
    },
    {
      "cell_type": "code",
      "source": [
        "class LogisticReg:\n",
        "    '''\n",
        "    Logistic regression class. The class is used to fit the data to a\n",
        "    logistic regression model and predict the data.\n",
        "    '''\n",
        "    def __init__(self, add_bias=True, verbose=False):\n",
        "        self.add_bias = add_bias\n",
        "        self.verbose = verbose\n",
        "        \n",
        "    def fit(self, x, y, grad_desc, momentum=momntm):\n",
        "        '''\n",
        "        Function to fit a linear model\n",
        "        x: input features\n",
        "        y: outcomes\n",
        "        grad_desc: Gradient Descent object\n",
        "        momentum = momentum function  \n",
        "        '''\n",
        "        if x.ndim == 1:\n",
        "            x = x[:, None]\n",
        "        if self.add_bias:\n",
        "            N = x.shape[0]\n",
        "            x = np.column_stack([x,np.ones(N)])\n",
        "        N,D = x.shape\n",
        "        g = np.inf \n",
        "        t = 0\n",
        "        w = np.random.randn(D,1)\n",
        "\n",
        "        # The code snippet below is for gradient descent\n",
        "        self.w,self.temp_ls = grad_desc.run(gradient, momentum, x, y, w)\n",
        "        \n",
        "        if self.verbose:\n",
        "            print(f'terminated after {t} iterations, with norm of the gradient equal to {np.linalg.norm(g)}')\n",
        "            print(f'the weight found: {w}')\n",
        "        return self\n",
        "    \n",
        "    def predict(self, x):\n",
        "        '''\n",
        "        Function to ?\n",
        "        x: input features\n",
        "        '''\n",
        "        if x.ndim == 1:\n",
        "            x = x[:, None]\n",
        "        Nt = x.shape[0]\n",
        "        if self.add_bias:\n",
        "            x = np.column_stack([x,np.ones(Nt)])\n",
        "        yh = logistic(np.dot(x,self.w)) # Predict output\n",
        "        yh_class = yh > 0.5\n",
        "        return yh, yh_class.astype(int)\n",
        "\n",
        "# Initialize the gradient method of the LogisticRegression class with the gradient function\n",
        "LogisticReg.gradient = gradient"
      ],
      "metadata": {
        "id": "mJ0KqtytOV7Q"
      },
      "execution_count": null,
      "outputs": []
    },
    {
      "cell_type": "markdown",
      "source": [
        "## Gradient Descent class\n"
      ],
      "metadata": {
        "id": "Fl_Ue7G2hYie"
      }
    },
    {
      "cell_type": "code",
      "source": [
        "class GradDescent:\n",
        "    '''\n",
        "    Gradient descent class. The class takes in multiple parameters and runs\n",
        "    gradient descent according to these.\n",
        "    '''\n",
        "    def __init__(self, learning_rate=.001, max_iters=1e4, epsilon=1e-8,\n",
        "                 btch_sz=32, tol=5, alpha=0.01, beta=0, record_history=False, mn_beta=0):\n",
        "        self.learning_rate = learning_rate\n",
        "        self.max_iters = max_iters\n",
        "        self.record_history = record_history\n",
        "        self.epsilon = epsilon\n",
        "        self.btch_sz = btch_sz # Batch size\n",
        "        self.alpha = alpha # For L2 regularization\n",
        "        self.beta = beta # For L1 regularization\n",
        "        self.tol = tol # Tolerance\n",
        "        self.mn_beta = mn_beta\n",
        "        if record_history:\n",
        "            self.w_history = [] # To store the weight history for visualization\n",
        "            \n",
        "    def run(self, gradient_fn, momentum_fn, x, y, w):        \n",
        "        grad = np.inf\n",
        "        tol  = 0    # Tolerance tracking index\n",
        "        btch = 0    # Batch tracking index\n",
        "        N,D = np.shape(x)\n",
        "        btch_num = np.floor(N/self.btch_sz) # Number of full batches (e.g., a dataset\n",
        "        # with length of 10 and batch size of 3 will have 3 full batches)\n",
        "        \n",
        "        #--------- Initialize a list to store losses in each iteration\n",
        "        tmp_ls = []\n",
        "        #-----------\n",
        "        for ind in range(int(self.max_iters)):\n",
        "            if ind%5000 == 0: # Print every 5000 iterations\n",
        "                print(f'Iteration: {ind}')\n",
        "                \n",
        "            if np.linalg.norm(grad) < self.epsilon: # If grad goes below the epsilon\n",
        "                if tol >= self.tol: # If the grad had small changes for tol iterations\n",
        "                    break\n",
        "                else:\n",
        "                    tol+=1\n",
        "            \n",
        "            if btch == 0:    # Batch initiation\n",
        "            # If the batch tracker is zero, get a shuffled index set to\n",
        "            # choose from x and y instances when each batch is being processed\n",
        "                tmp_ind = np.random.permutation(np.arange(N))\n",
        "            \n",
        "            if btch==btch_num: # For the last batch, most of the time its length\n",
        "            # is not equal to the batch size (it's smaller), and this can cause\n",
        "            # problems if you use routine indexing\n",
        "                slc_ind = tmp_ind[(btch)*self.btch_sz:]\n",
        "                x_bt = x[slc_ind, :]\n",
        "                y_bt = y[slc_ind,:]\n",
        "\n",
        "                btch = 0 # Reset batch tracking index\n",
        "            else: \n",
        "                slc_ind = tmp_ind[(btch)*self.btch_sz:(btch+1)*self.btch_sz]\n",
        "                x_bt = x[slc_ind, :]\n",
        "                y_bt = y[slc_ind, :]\n",
        "\n",
        "                btch += 1\n",
        "            \n",
        "            grad = gradient_fn(x_bt, y_bt, w, self.alpha, self.beta)  # Calculate gradient \n",
        "            if ind == 0:\n",
        "                momentum = grad\n",
        "            else:\n",
        "                momentum = momentum_fn(grad, momentum, mn_beta=self.mn_beta)\n",
        "  \n",
        "            w = w - self.learning_rate * momentum # Take the step\n",
        "            tmp_ls.append(cost_fn(x, y, w))\n",
        "            if self.record_history:\n",
        "                self.w_history.append(w)\n",
        "                \n",
        "            if tol>0  and np.linalg.norm(grad) > self.epsilon: # Reset tolerance if gradient goes over epsilon\n",
        "                tol=0 \n",
        "            \n",
        "        return w, tmp_ls"
      ],
      "metadata": {
        "id": "p0-pgc-8H2c_"
      },
      "execution_count": null,
      "outputs": []
    },
    {
      "cell_type": "markdown",
      "source": [
        "# Logistic Regression Tests:\n",
        "## 1. No regularization"
      ],
      "metadata": {
        "id": "qonc17b51ICw"
      }
    },
    {
      "cell_type": "code",
      "source": [
        "nitr=10000\n",
        "train_ls = np.zeros((nitr,3)) # Initializing a zeros matrix to store\n",
        "                                              # the learning rate loss # List to store the loss for each instance\n",
        "\n",
        "'''\n",
        "regularization_list = [\"No regularization: \", \"L2 regularization: \", \"L2 regularization: \"] # Strings to be printed for organization\n",
        "# Initializing a gradient descent instance to be used in each iteration\n",
        "grad_desc_list = [GradDescent(max_iters=1e4, btch_sz=32, alpha=0, beta=0),\n",
        "                  GradDescent(max_iters=1e4, btch_sz=32, alpha=0.01, beta=0),\n",
        "                  GradDescent(max_iters=1e4, btch_sz=32, alpha=0, beta=0.1)]\n",
        "\n",
        "for i in range(0,3):\n",
        "    print(regularization_list[i])\n",
        "\n",
        "    logrg = LogisticReg() # Initializing a Logistic Regression instance\n",
        "    rg_dat = LogRegData(pth) # Getting the logistic regression data from the file path\n",
        "    rg_dat.split(tst_ratio=0.2, rnd_stat=120) # Splitting the data into test and train sets\n",
        "    rg_dat.dum_coder(rg_dat.x_train, rg_dat.x_test) # One hot encoding the x data\n",
        "    rg_dat.dum_coder(rg_dat.y_train, rg_dat.y_test, cat_dat=[0]) # One hot encoding the y data\n",
        "\n",
        "    logrg.fit(rg_dat.dum_x_train, rg_dat.dum_y_train, grad_desc_list[0]) # Fitting the regression data\n",
        "    probability, predictoutput = logrg.predict(rg_dat.dum_x_test) # Predicting the output and storing it\n",
        "    test_grd.append(logrg.temp_ls) # Storing the loss after every gradient descent instance is applied\n",
        "\n",
        "    # Plotting the data in a classification report and noting the F1 and AUC scores\n",
        "    print(classification_report(rg_dat.dum_y_test, predictoutput))\n",
        "    print(\"F1 score: \" + str(f1_score(rg_dat.dum_y_test, predictoutput)))\n",
        "    print(\"AUC score: \" + str(roc_auc_score(rg_dat.dum_y_test, probability, multi_class='ovr')))\n",
        "    print()\n",
        "'''\n",
        "# Data for no regularization\n",
        "print(\"No regularization: \")\n",
        "logrg = LogisticReg() # Initializing a Logistic Regression instance\n",
        "rg_dat = LogRegData(pth) # Getting the logistic regression data from the file path\n",
        "rg_dat.split(tst_ratio=0.2, rnd_stat=120) # Splitting the data into test and train sets\n",
        "rg_dat.dum_coder(rg_dat.x_train, rg_dat.x_test) # One hot encoding the x data\n",
        "rg_dat.dum_coder(rg_dat.y_train, rg_dat.y_test, cat_dat=[0]) # One hot encoding the y data\n",
        "grad_desc_noreg = GradDescent(max_iters=nitr, btch_sz=32, alpha=0, beta=0) # Initializing gradient descent\n",
        "logrg.fit(rg_dat.dum_x_train, rg_dat.dum_y_train, grad_desc_noreg) # Fitting the regression data\n",
        "probability_noreg, predictoutput_noreg = logrg.predict(rg_dat.dum_x_test) # Predicting the output and storing it\n",
        "auc_test_noreg = roc_auc_score(rg_dat.dum_y_test, probability_noreg)\n",
        "train_ls[:, 0] = logrg.temp_ls\n",
        "\n",
        "# Plotting the noreg data in a classification report and noting the F1 and AUC scores\n",
        "print(classification_report(rg_dat.dum_y_test, predictoutput_noreg))\n",
        "print(\"F1 score: \" + str(f1_score(rg_dat.dum_y_test, predictoutput_noreg))) #\n",
        "print(\"AUC score: \" + str(auc_test_noreg))\n",
        "print()\n",
        "\n",
        "# Data for L2 regularization\n",
        "print(\"L2 regularization: \")\n",
        "logrg = LogisticReg() # Initializing a Logistic Regression instance\n",
        "rg_dat = LogRegData(pth) # Getting the logistic regression data from the file path\n",
        "rg_dat.split(tst_ratio=0.2, rnd_stat=120) # Splitting the data into test and train sets\n",
        "rg_dat.dum_coder(rg_dat.x_train, rg_dat.x_test) # One hot encoding the x data\n",
        "rg_dat.dum_coder(rg_dat.y_train, rg_dat.y_test, cat_dat=[0]) # One hot encoding the y data\n",
        "grad_desc_l2reg = GradDescent(max_iters=nitr, btch_sz=32, alpha=0.01, beta=0) # Initializing gradient descent\n",
        "logrg.fit(rg_dat.dum_x_train, rg_dat.dum_y_train, grad_desc_l2reg) # Fitting the regression data\n",
        "probability_l2reg, predictoutput_l2reg = logrg.predict(rg_dat.dum_x_test) # Predicting the output and storing it\n",
        "auc_test_l2reg = roc_auc_score(rg_dat.dum_y_test, probability_l2reg)\n",
        "train_ls[:, 1] = logrg.temp_ls\n",
        "\n",
        "# Plotting the l2reg data in a classification report and noting the F1 and AUC scores\n",
        "print(classification_report(rg_dat.dum_y_test, predictoutput_l2reg))\n",
        "print(\"F1 score: \" + str(f1_score(rg_dat.dum_y_test, predictoutput_l2reg))) #\n",
        "print(\"AUC score: \" + str(auc_test_l2reg))\n",
        "print()\n",
        "\n",
        "# Data for L1 regularization\n",
        "print(\"L1 regularization: \")\n",
        "logrg = LogisticReg() # Initializing a Logistic Regression instance\n",
        "rg_dat = LogRegData(pth) # Getting the logistic regression data from the file path\n",
        "rg_dat.split(tst_ratio=0.2, rnd_stat=120) # Splitting the data into test and train sets\n",
        "rg_dat.dum_coder(rg_dat.x_train, rg_dat.x_test) # One hot encoding the x data\n",
        "rg_dat.dum_coder(rg_dat.y_train, rg_dat.y_test, cat_dat=[0]) # One hot encoding the y data\n",
        "grad_desc_l1reg = GradDescent(max_iters=nitr, btch_sz=32, alpha=0, beta=0.1) # Initializing gradient descent\n",
        "logrg.fit(rg_dat.dum_x_train, rg_dat.dum_y_train, grad_desc_l1reg) # Fitting the regression data\n",
        "probability_l1reg, predictoutput_l1reg = logrg.predict(rg_dat.dum_x_test) # Predicting the output and storing it\n",
        "auc_test_l1reg = roc_auc_score(rg_dat.dum_y_test, probability_l1reg)\n",
        "train_ls[:, 2] = logrg.temp_ls\n",
        "\n",
        "# Plotting the l1reg data in a classification report and noting the F1 and AUC scores\n",
        "print(classification_report(rg_dat.dum_y_test, predictoutput_l1reg))\n",
        "print(\"F1 score: \" + str(f1_score(rg_dat.dum_y_test, predictoutput_l1reg))) #\n",
        "print(\"AUC score: \" + str(auc_test_l1reg))\n",
        "print()\n",
        "\n",
        "fig, ax = plt.subplots()\n",
        "plt.plot(train_ls)\n",
        "ax.spines['top'].set_visible(False)\n",
        "ax.spines['right'].set_visible(False)\n",
        "ax.set_ylabel('Loss')\n",
        "ax.set_xlabel('Iterations')\n",
        "plt.legend([\"No regularization\", \"L2 regularization\", \"L1 regularization\"])"
      ],
      "metadata": {
        "colab": {
          "base_uri": "https://localhost:8080/",
          "height": 1000
        },
        "id": "dHGSzlv03n4q",
        "outputId": "759a8371-70da-4c0b-a240-e1cdd3ab5f51"
      },
      "execution_count": null,
      "outputs": [
        {
          "output_type": "stream",
          "name": "stdout",
          "text": [
            "No regularization: \n",
            "Iteration: 0\n",
            "Iteration: 5000\n",
            "              precision    recall  f1-score   support\n",
            "\n",
            "         0.0       0.88      1.00      0.93        21\n",
            "         1.0       1.00      0.90      0.95        29\n",
            "\n",
            "    accuracy                           0.94        50\n",
            "   macro avg       0.94      0.95      0.94        50\n",
            "weighted avg       0.95      0.94      0.94        50\n",
            "\n",
            "F1 score: 0.9454545454545454\n",
            "AUC score: 1.0\n",
            "\n",
            "L2 regularization: \n",
            "Iteration: 0\n",
            "Iteration: 5000\n",
            "              precision    recall  f1-score   support\n",
            "\n",
            "         0.0       1.00      1.00      1.00        21\n",
            "         1.0       1.00      1.00      1.00        29\n",
            "\n",
            "    accuracy                           1.00        50\n",
            "   macro avg       1.00      1.00      1.00        50\n",
            "weighted avg       1.00      1.00      1.00        50\n",
            "\n",
            "F1 score: 1.0\n",
            "AUC score: 1.0\n",
            "\n",
            "L1 regularization: \n",
            "Iteration: 0\n",
            "Iteration: 5000\n",
            "              precision    recall  f1-score   support\n",
            "\n",
            "         0.0       0.95      0.90      0.93        21\n",
            "         1.0       0.93      0.97      0.95        29\n",
            "\n",
            "    accuracy                           0.94        50\n",
            "   macro avg       0.94      0.94      0.94        50\n",
            "weighted avg       0.94      0.94      0.94        50\n",
            "\n",
            "F1 score: 0.9491525423728815\n",
            "AUC score: 0.986863711001642\n",
            "\n"
          ]
        },
        {
          "output_type": "execute_result",
          "data": {
            "text/plain": [
              "<matplotlib.legend.Legend at 0x7f265cbe7160>"
            ]
          },
          "metadata": {},
          "execution_count": 60
        },
        {
          "output_type": "display_data",
          "data": {
            "text/plain": [
              "<Figure size 432x288 with 1 Axes>"
            ],
            "image/png": "[encoded data removed]"
          },
          "metadata": {
            "needs_background": "light"
          }
        }
      ]
    },
    {
      "cell_type": "code",
      "source": [
        "logrg = LogisticReg() # Initializing a Logistic Regression instance\n",
        "\n",
        "rg_dat = LogRegData(pth) # Getting the logistic regression data from the file path\n",
        "rg_dat.split(tst_ratio=0.2, rnd_stat=100) # Splitting the data into test and train sets\n",
        "rg_dat.dum_coder(rg_dat.x_train, rg_dat.x_test) # One hot encoding the x data\n",
        "rg_dat.dum_coder(rg_dat.y_train, rg_dat.y_test, cat_dat=[0]) # One hot encoding the y data\n",
        "grad_desc = GradDescent(max_iters=1e4, btch_sz=32, alpha=0, beta=0) # Initializing gradient descent\n",
        "logrg.fit(rg_dat.dum_x_train, rg_dat.dum_y_train, grad_desc) # Fitting the regression data\n",
        "probability, predictoutput = logrg.predict(rg_dat.dum_x_test) # Predicting the output and storing it\n",
        "\n",
        "# Plotting the data in a classification report and noting the F1 and AUC scores\n",
        "print(classification_report(rg_dat.dum_y_test, predictoutput))\n",
        "print(\"F1 score: \" + str(f1_score(rg_dat.dum_y_test, predictoutput)))\n",
        "print(\"AUC score: \" + str(roc_auc_score(rg_dat.dum_y_test, probability, multi_class='ovr')))\n",
        "\n",
        "plt.plot(logrg.temp_ls)\n",
        "plt.legend(\"Loss\",  loc=0)"
      ],
      "metadata": {
        "id": "r8Ic-Eh_1J71",
        "colab": {
          "base_uri": "https://localhost:8080/",
          "height": 515
        },
        "outputId": "b04b0bb5-486e-4ef9-cd24-c4eb9427b10b"
      },
      "execution_count": null,
      "outputs": [
        {
          "output_type": "stream",
          "name": "stdout",
          "text": [
            "Iteration: 0\n",
            "Iteration: 5000\n",
            "              precision    recall  f1-score   support\n",
            "\n",
            "         0.0       0.95      0.90      0.93        21\n",
            "         1.0       0.93      0.97      0.95        29\n",
            "\n",
            "    accuracy                           0.94        50\n",
            "   macro avg       0.94      0.94      0.94        50\n",
            "weighted avg       0.94      0.94      0.94        50\n",
            "\n",
            "F1 score: 0.9491525423728815\n",
            "AUC score: 0.9770114942528736\n"
          ]
        },
        {
          "output_type": "execute_result",
          "data": {
            "text/plain": [
              "<matplotlib.legend.Legend at 0x7ff889b6e5e0>"
            ]
          },
          "metadata": {},
          "execution_count": 10
        },
        {
          "output_type": "display_data",
          "data": {
            "text/plain": [
              "<Figure size 432x288 with 1 Axes>"
            ],
            "image/png": "[encoded data removed]"
          },
          "metadata": {
            "needs_background": "light"
          }
        }
      ]
    },
    {
      "cell_type": "markdown",
      "source": [
        "## 2. L2 regularization"
      ],
      "metadata": {
        "id": "kZQawfV0mHox"
      }
    },
    {
      "cell_type": "code",
      "source": [
        "logrg = LogisticReg() # Initializing a logistic regression instance\n",
        "rg_dat = LogRegData(pth) # Getting the logistic regression data from the file path\n",
        "rg_dat.split(tst_ratio=0.2, rnd_stat=120) # Splitting the data into test and train sets\n",
        "rg_dat.dum_coder(rg_dat.x_train, rg_dat.x_test) # One hot encoding the x data\n",
        "rg_dat.dum_coder(rg_dat.y_train, rg_dat.y_test, cat_dat=[0]) # One hot encoding the y data\n",
        "grad_desc=GradDescent(max_iters=1e4,alpha=0.01, beta=0) # Initializing gradient descent,\n",
        "                                                        # this time with L2 regularization\n",
        "                                                        # in the alpha value\n",
        "logrg.fit(rg_dat.dum_x_train, rg_dat.dum_y_train,grad_desc) # Fitting the regression data\n",
        "probability, predictoutput = logrg.predict(rg_dat.dum_x_test) # Predicting the output and storing it\n",
        "\n",
        "# Plotting the data in a classification report and noting the F1 and AUC scores\n",
        "print(classification_report(rg_dat.dum_y_test, predictoutput))\n",
        "print(\"F1 score: \" + str(f1_score(rg_dat.dum_y_test, predictoutput)))\n",
        "print(\"AUC score: \" + str(roc_auc_score(rg_dat.dum_y_test, probability, multi_class='ovr')))\n",
        "\n",
        "plt.plot(logrg.temp_ls)\n",
        "plt.legend(\"Loss\")"
      ],
      "metadata": {
        "colab": {
          "base_uri": "https://localhost:8080/",
          "height": 515
        },
        "id": "X6B-hrjjmANL",
        "outputId": "5e5d6dec-3511-4157-c10d-49419323a4fe"
      },
      "execution_count": null,
      "outputs": [
        {
          "output_type": "stream",
          "name": "stdout",
          "text": [
            "Iteration: 0\n",
            "Iteration: 5000\n",
            "              precision    recall  f1-score   support\n",
            "\n",
            "         0.0       0.90      0.90      0.90        21\n",
            "         1.0       0.93      0.93      0.93        29\n",
            "\n",
            "    accuracy                           0.92        50\n",
            "   macro avg       0.92      0.92      0.92        50\n",
            "weighted avg       0.92      0.92      0.92        50\n",
            "\n",
            "F1 score: 0.9310344827586207\n",
            "AUC score: 0.993431855500821\n"
          ]
        },
        {
          "output_type": "execute_result",
          "data": {
            "text/plain": [
              "<matplotlib.legend.Legend at 0x7f43c1fefa30>"
            ]
          },
          "metadata": {},
          "execution_count": 32
        },
        {
          "output_type": "display_data",
          "data": {
            "text/plain": [
              "<Figure size 432x288 with 1 Axes>"
            ],
            "image/png": "[encoded data removed]"
          },
          "metadata": {
            "needs_background": "light"
          }
        }
      ]
    },
    {
      "cell_type": "markdown",
      "source": [
        "## 3. L1 regularization"
      ],
      "metadata": {
        "id": "728XQIvVoQYA"
      }
    },
    {
      "cell_type": "code",
      "source": [
        "logrg = LogisticReg() # Initializing a logistic regression instance\n",
        "rg_dat = LogRegData(pth) # Getting the logistic regression data from the file path\n",
        "rg_dat.split(tst_ratio=0.2, rnd_stat=120) # Splitting the data into test and train sets\n",
        "rg_dat.dum_coder(rg_dat.x_train, rg_dat.x_test) # One hot encoding the x data\n",
        "rg_dat.dum_coder(rg_dat.y_train, rg_dat.y_test, cat_dat=[0]) # One hot encoding the y data\n",
        "grad_desc=GradDescent(max_iters=1e4,alpha=0, beta=0.1) # Initializing gradient descent,\n",
        "                                                       # this time with L1 regularization\n",
        "                                                       # in the beta value\n",
        "logrg.fit(rg_dat.dum_x_train, rg_dat.dum_y_train,grad_desc) # Fitting the regression data\n",
        "probability, predictoutput = logrg.predict(rg_dat.dum_x_test) # Predicting the output and storing it\n",
        "\n",
        "# Plotting the data in a classification report and noting the F1 and AUC scores\n",
        "print(classification_report(rg_dat.dum_y_test, predictoutput))\n",
        "print(\"F1 score: \" + str(f1_score(rg_dat.dum_y_test, predictoutput)))\n",
        "print(\"AUC score: \" + str(roc_auc_score(rg_dat.dum_y_test, probability, multi_class='ovr')))\n",
        "\n",
        "plt.plot(logrg.temp_ls)\n",
        "plt.legend(\"Loss\")"
      ],
      "metadata": {
        "colab": {
          "base_uri": "https://localhost:8080/",
          "height": 515
        },
        "id": "u6Fh073qoVW4",
        "outputId": "2db9a964-25cd-4e12-a8c9-cc803ec929a3"
      },
      "execution_count": null,
      "outputs": [
        {
          "output_type": "stream",
          "name": "stdout",
          "text": [
            "Iteration: 0\n",
            "Iteration: 5000\n",
            "              precision    recall  f1-score   support\n",
            "\n",
            "         0.0       0.95      1.00      0.98        21\n",
            "         1.0       1.00      0.97      0.98        29\n",
            "\n",
            "    accuracy                           0.98        50\n",
            "   macro avg       0.98      0.98      0.98        50\n",
            "weighted avg       0.98      0.98      0.98        50\n",
            "\n",
            "F1 score: 0.9824561403508771\n",
            "AUC score: 0.9950738916256158\n"
          ]
        },
        {
          "output_type": "execute_result",
          "data": {
            "text/plain": [
              "<matplotlib.legend.Legend at 0x7f43c0915850>"
            ]
          },
          "metadata": {},
          "execution_count": 33
        },
        {
          "output_type": "display_data",
          "data": {
            "text/plain": [
              "<Figure size 432x288 with 1 Axes>"
            ],
            "image/png": "[encoded data removed]"
          },
          "metadata": {
            "needs_background": "light"
          }
        }
      ]
    },
    {
      "cell_type": "markdown",
      "source": [
        "## 4. Investigate feature importance via L1 regularization"
      ],
      "metadata": {
        "id": "BJl8LatZpMTB"
      }
    },
    {
      "cell_type": "code",
      "source": [
        "logrg = LogisticReg() # Initializing a logistic regression instance\n",
        "rg_dat = LogRegData(pth) # Getting the logistic regression data from the file path\n",
        "rg_dat.split(tst_ratio=0.2, rnd_stat=120) # Splitting the data into test and train sets\n",
        "rg_dat.dum_coder(rg_dat.x_train, rg_dat.x_test) # One hot encoding the x data\n",
        "rg_dat.dum_coder(rg_dat.y_train, rg_dat.y_test, cat_dat=[0]) # One hot encoding the y data\n",
        "grad_desc=GradDescent(max_iters=1e4,alpha=0, beta=0.1) # Initializing gradient descent,\n",
        "                                                       # again with L1 regularization\n",
        "logrg.fit(rg_dat.dum_x_train, rg_dat.dum_y_train,grad_desc) # Fitting the regression data\n",
        "probability, predictoutput = logrg.predict(rg_dat.dum_x_test) # Predicting the output and storing it\n",
        "\n",
        "# Plotting the data in a classification report and noting the F1 and AUC scores, along with subplots\n",
        "# to note features\n",
        "print(classification_report(rg_dat.dum_y_test, predictoutput))\n",
        "print(\"F1 score: \" + str(f1_score(rg_dat.dum_y_test, predictoutput)))\n",
        "print(\"AUC score: \" + str(roc_auc_score(rg_dat.dum_y_test, probability, multi_class='ovr')))\n",
        "\n",
        "print(logrg.w[:-1])\n",
        "\n",
        "fig, ax = plt.subplots()\n",
        "plt.stem(logrg.w[:-1])\n",
        "plt.xlabel('Features')\n",
        "plt.ylabel('Weight')"
      ],
      "metadata": {
        "colab": {
          "base_uri": "https://localhost:8080/",
          "height": 743
        },
        "id": "KASv6AcQpMgI",
        "outputId": "7240ed9b-ebe5-4f14-87e4-61cb61dedd06"
      },
      "execution_count": null,
      "outputs": [
        {
          "output_type": "stream",
          "name": "stdout",
          "text": [
            "Iteration: 0\n",
            "Iteration: 5000\n",
            "              precision    recall  f1-score   support\n",
            "\n",
            "         0.0       0.86      0.86      0.86        21\n",
            "         1.0       0.90      0.90      0.90        29\n",
            "\n",
            "    accuracy                           0.88        50\n",
            "   macro avg       0.88      0.88      0.88        50\n",
            "weighted avg       0.88      0.88      0.88        50\n",
            "\n",
            "F1 score: 0.896551724137931\n",
            "AUC score: 0.9852216748768473\n",
            "[[ 1.13555102e-05]\n",
            " [ 1.21057042e-04]\n",
            " [ 5.66048836e-05]\n",
            " [ 1.16237996e-04]\n",
            " [-1.38893371e+00]\n",
            " [ 4.49540791e-01]\n",
            " [-1.29259004e-01]\n",
            " [ 1.70276326e-01]\n",
            " [-6.57535727e-01]\n",
            " [ 2.23248504e-04]\n",
            " [-3.18581988e-05]\n",
            " [-9.26553453e-06]]\n"
          ]
        },
        {
          "output_type": "execute_result",
          "data": {
            "text/plain": [
              "Text(0, 0.5, 'Weight')"
            ]
          },
          "metadata": {},
          "execution_count": 29
        },
        {
          "output_type": "display_data",
          "data": {
            "text/plain": [
              "<Figure size 432x288 with 1 Axes>"
            ],
            "image/png": "[encoded data removed]"
          },
          "metadata": {
            "needs_background": "light"
          }
        }
      ]
    },
    {
      "cell_type": "markdown",
      "source": [
        "## 5. Use different training sizes and see model performances"
      ],
      "metadata": {
        "id": "-A4-4eg2qlRM"
      }
    },
    {
      "cell_type": "code",
      "source": [
        "trn_pool = np.arange(2,9) * 10 # List of different training sizes\n",
        "\n",
        "train_grd=[]\n",
        "test_grd=[]\n",
        "\n",
        "for sz in trn_pool:\n",
        "    tst_ratio = (100-sz)/100 # Picking an appropriate test ratio according to size\n",
        "\n",
        "    logrg = LogisticReg() # Initializing a logistic regression instance\n",
        "    rg_dat = LogRegData(pth) # Getting the logistic regression data from the file path\n",
        "    rg_dat.split(tst_ratio=tst_ratio, rnd_stat=100) # Splitting the data into test and train sets\n",
        "    rg_dat.dum_coder(rg_dat.x_train, rg_dat.x_test) # One hot encoding the x data\n",
        "    rg_dat.dum_coder(rg_dat.y_train, rg_dat.y_test, cat_dat=[0]) # One hot encoding the y data\n",
        "    grad_desc=GradDescent(max_iters=1e4,alpha=0, beta=0) # Initializing gradient descent\n",
        "    logrg.fit(rg_dat.dum_x_train, rg_dat.dum_y_train,grad_desc) # Fitting the regression data\n",
        "    probability, predictoutput = logrg.predict(rg_dat.dum_x_test)  # Predicting the output from\n",
        "                                                                   # test values and storing it\n",
        "    probability_train, predictoutput_train = logrg.predict(rg_dat.dum_x_train)   # Predicting the output\n",
        "                                                                   # from train values and storing it\n",
        "    \n",
        "    # Plotting the data in a classification report and noting the test and train F1 scores\n",
        "    print(classification_report(rg_dat.dum_y_test, predictoutput))\n",
        "    print(\"Test F1 score: \" + str(f1_score(rg_dat.dum_y_test, predictoutput)))\n",
        "    print(\"Train F1 score: \" + str(f1_score(rg_dat.dum_y_train, predictoutput_train)))\n",
        "\n",
        "    # Saving the AUC score data for the test and train sets for each training size\n",
        "    auc_test_y= roc_auc_score(rg_dat.dum_y_test, probability)\n",
        "    test_grd.append(auc_test_y)\n",
        "    auc_train_y= roc_auc_score(rg_dat.dum_y_train, probability_train)\n",
        "    train_grd.append(auc_train_y)\n",
        "\n",
        "# Now plotting the AUC scores for the test and train values\n",
        "fig, ax = plt.subplots()\n",
        "plt.plot(test_grd)\n",
        "plt.plot(train_grd)\n",
        "ax.set_xticks(np.arange(0,len(trn_pool)))\n",
        "ax.set_xticklabels(trn_pool) \n",
        "ax.spines['top'].set_visible(False)\n",
        "ax.spines['right'].set_visible(False)\n",
        "ax.set_ylabel('AUC')\n",
        "ax.set_xlabel('Training set ratio (%)')\n",
        "plt.legend([\"Test\", \"Train\"])"
      ],
      "metadata": {
        "colab": {
          "base_uri": "https://localhost:8080/",
          "height": 1000
        },
        "id": "G2ZDZ6hcq59x",
        "outputId": "9fabc5c7-e573-4f74-d8de-99676410a44c"
      },
      "execution_count": null,
      "outputs": [
        {
          "output_type": "stream",
          "name": "stdout",
          "text": [
            "Iteration: 0\n",
            "Iteration: 5000\n",
            "              precision    recall  f1-score   support\n",
            "\n",
            "         0.0       0.81      0.99      0.89        86\n",
            "         1.0       0.99      0.82      0.90       114\n",
            "\n",
            "    accuracy                           0.90       200\n",
            "   macro avg       0.90      0.91      0.89       200\n",
            "weighted avg       0.91      0.90      0.90       200\n",
            "\n",
            "Test F1 score: 0.8995215311004785\n",
            "Train F1 score: 0.8679245283018867\n",
            "Iteration: 0\n",
            "Iteration: 5000\n",
            "              precision    recall  f1-score   support\n",
            "\n",
            "         0.0       0.84      0.99      0.91        75\n",
            "         1.0       0.99      0.86      0.92       100\n",
            "\n",
            "    accuracy                           0.91       175\n",
            "   macro avg       0.91      0.92      0.91       175\n",
            "weighted avg       0.93      0.91      0.91       175\n",
            "\n",
            "Test F1 score: 0.9197860962566845\n",
            "Train F1 score: 0.963855421686747\n",
            "Iteration: 0\n",
            "Iteration: 5000\n",
            "              precision    recall  f1-score   support\n",
            "\n",
            "         0.0       0.90      0.98      0.94        64\n",
            "         1.0       0.99      0.92      0.95        86\n",
            "\n",
            "    accuracy                           0.95       150\n",
            "   macro avg       0.94      0.95      0.95       150\n",
            "weighted avg       0.95      0.95      0.95       150\n",
            "\n",
            "Test F1 score: 0.9518072289156626\n",
            "Train F1 score: 0.972972972972973\n",
            "Iteration: 0\n",
            "Iteration: 5000\n",
            "              precision    recall  f1-score   support\n",
            "\n",
            "         0.0       0.89      1.00      0.94        54\n",
            "         1.0       1.00      0.90      0.95        71\n",
            "\n",
            "    accuracy                           0.94       125\n",
            "   macro avg       0.94      0.95      0.94       125\n",
            "weighted avg       0.95      0.94      0.94       125\n",
            "\n",
            "Test F1 score: 0.9481481481481481\n",
            "Train F1 score: 0.971830985915493\n",
            "Iteration: 0\n",
            "Iteration: 5000\n",
            "              precision    recall  f1-score   support\n",
            "\n",
            "         0.0       1.00      1.00      1.00        43\n",
            "         1.0       1.00      1.00      1.00        57\n",
            "\n",
            "    accuracy                           1.00       100\n",
            "   macro avg       1.00      1.00      1.00       100\n",
            "weighted avg       1.00      1.00      1.00       100\n",
            "\n",
            "Test F1 score: 1.0\n",
            "Train F1 score: 0.9883720930232558\n",
            "Iteration: 0\n",
            "Iteration: 5000\n",
            "              precision    recall  f1-score   support\n",
            "\n",
            "         0.0       0.97      1.00      0.98        32\n",
            "         1.0       1.00      0.98      0.99        43\n",
            "\n",
            "    accuracy                           0.99        75\n",
            "   macro avg       0.98      0.99      0.99        75\n",
            "weighted avg       0.99      0.99      0.99        75\n",
            "\n",
            "Test F1 score: 0.988235294117647\n",
            "Train F1 score: 0.9748743718592964\n",
            "Iteration: 0\n",
            "Iteration: 5000\n",
            "              precision    recall  f1-score   support\n",
            "\n",
            "         0.0       0.95      1.00      0.98        21\n",
            "         1.0       1.00      0.97      0.98        29\n",
            "\n",
            "    accuracy                           0.98        50\n",
            "   macro avg       0.98      0.98      0.98        50\n",
            "weighted avg       0.98      0.98      0.98        50\n",
            "\n",
            "Test F1 score: 0.9824561403508771\n",
            "Train F1 score: 0.9369369369369369\n"
          ]
        },
        {
          "output_type": "execute_result",
          "data": {
            "text/plain": [
              "<matplotlib.legend.Legend at 0x7f26630ae6a0>"
            ]
          },
          "metadata": {},
          "execution_count": 25
        },
        {
          "output_type": "display_data",
          "data": {
            "text/plain": [
              "<Figure size 432x288 with 1 Axes>"
            ],
            "image/png": "[encoded data removed]"
          },
          "metadata": {
            "needs_background": "light"
          }
        }
      ]
    },
    {
      "cell_type": "markdown",
      "source": [
        "##6. Use different batch sizes and see model performance\n"
      ],
      "metadata": {
        "id": "1K0FOr8pTO6B"
      }
    },
    {
      "cell_type": "code",
      "source": [
        "btch_pool = 2**np.arange(3,8) # Initializing a list of batch sizes of powers of 2 from 8 to 128\n",
        "\n",
        "train_grd=[]\n",
        "test_grd=[]\n",
        "ls_test_grd=[]\n",
        "ls_train_grd=\n",
        "# Using a different batch size in the batch pool for each iteration\n",
        "for sz in btch_pool:\n",
        "    logrg = LogisticReg()  # Initializing a logistic regression instance\n",
        "    rg_dat = LogRegData(pth)  # Getting the logistic regression data from the file path\n",
        "    rg_dat.split(tst_ratio=0.21, rnd_stat=100)  # Splitting the data into test and train sets\n",
        "    rg_dat.dum_coder(rg_dat.x_train, rg_dat.x_test) # One hot encoding the x data\n",
        "    rg_dat.dum_coder(rg_dat.y_train, rg_dat.y_test, cat_dat=[0]) # One hot encoding the y data\n",
        "    grad_desc=GradDescent(max_iters=1e4,btch_sz=sz, alpha=0, beta=0) # Initializing gradient descent\n",
        "    logrg.fit(rg_dat.dum_x_train, rg_dat.dum_y_train,grad_desc) # Fitting the regression data\n",
        "    probability, predictoutput = logrg.predict(rg_dat.dum_x_test)  # Predicting the output from\n",
        "                                                                   # test values and storing it\n",
        "    probability_train, predictoutput_train = logrg.predict(rg_dat.dum_x_train)   # Predicting the output\n",
        "                                                                   # from train values and storing it\n",
        "\n",
        "    # Plotting the data in a classification report and noting the test and train F1 scores\n",
        "    print(classification_report(rg_dat.dum_y_test, predictoutput))\n",
        "    print(\"Test F1 score: \" + str(f1_score(rg_dat.dum_y_test, predictoutput)))\n",
        "    print(\"Train F1 score: \" + str(f1_score(rg_dat.dum_y_train, predictoutput_train)))\n",
        "\n",
        "    # Saving the AUC score data for the test and train sets for each training size\n",
        "    auc_test_y= roc_auc_score(rg_dat.dum_y_test, probability)\n",
        "    test_grd.append(auc_test_y)\n",
        "    ls.grd.append()\n",
        "    auc_train_y= roc_auc_score(rg_dat.dum_y_train, probability_train)\n",
        "    train_grd.append(auc_train_y)\n",
        "\n",
        "# Now plotting the AUC scores for the test and train values\n",
        "fig, ax = plt.subplots()\n",
        "plt.plot(test_grd)\n",
        "plt.plot(train_grd)\n",
        "ax.set_xticks(np.arange(0,len(btch_pool)))\n",
        "ax.set_xticklabels(btch_pool) \n",
        "ax.spines['top'].set_visible(False)\n",
        "ax.spines['right'].set_visible(False)\n",
        "ax.set_ylabel('AUC')\n",
        "ax.set_xlabel('Batch sizes')\n",
        "plt.legend([\"Test\", \"Train\"])\n",
        "\n",
        "\n",
        "fig, ax = plt.subplots()\n",
        "plt.plot(test_grd)\n",
        "plt.plot(train_grd)\n",
        "ax.set_xticks(np.arange(0,len(btch_pool)))\n",
        "ax.set_xticklabels(btch_pool) \n",
        "ax.spines['top'].set_visible(False)\n",
        "ax.spines['right'].set_visible(False)\n",
        "ax.set_ylabel('AUC')\n",
        "ax.set_xlabel('Batch sizes')\n",
        "plt.legend([\"Test\", \"Train\"])"
      ],
      "metadata": {
        "colab": {
          "base_uri": "https://localhost:8080/",
          "height": 1000
        },
        "id": "_S7ZdJdCTRdh",
        "outputId": "269f75d4-a87b-4864-8997-45bac48c4e21"
      },
      "execution_count": null,
      "outputs": [
        {
          "output_type": "stream",
          "name": "stdout",
          "text": [
            "Iteration: 0\n",
            "Iteration: 5000\n",
            "              precision    recall  f1-score   support\n",
            "\n",
            "         0.0       0.79      1.00      0.88        23\n",
            "         1.0       1.00      0.80      0.89        30\n",
            "\n",
            "    accuracy                           0.89        53\n",
            "   macro avg       0.90      0.90      0.89        53\n",
            "weighted avg       0.91      0.89      0.89        53\n",
            "\n",
            "Test F1 score: 0.888888888888889\n",
            "Train F1 score: 0.9537037037037037\n",
            "Iteration: 0\n",
            "Iteration: 5000\n",
            "              precision    recall  f1-score   support\n",
            "\n",
            "         0.0       0.92      0.96      0.94        23\n",
            "         1.0       0.97      0.93      0.95        30\n",
            "\n",
            "    accuracy                           0.94        53\n",
            "   macro avg       0.94      0.94      0.94        53\n",
            "weighted avg       0.94      0.94      0.94        53\n",
            "\n",
            "Test F1 score: 0.9491525423728815\n",
            "Train F1 score: 0.9333333333333333\n",
            "Iteration: 0\n",
            "Iteration: 5000\n",
            "              precision    recall  f1-score   support\n",
            "\n",
            "         0.0       1.00      1.00      1.00        23\n",
            "         1.0       1.00      1.00      1.00        30\n",
            "\n",
            "    accuracy                           1.00        53\n",
            "   macro avg       1.00      1.00      1.00        53\n",
            "weighted avg       1.00      1.00      1.00        53\n",
            "\n",
            "Test F1 score: 1.0\n",
            "Train F1 score: 0.9506726457399104\n",
            "Iteration: 0\n",
            "Iteration: 5000\n",
            "              precision    recall  f1-score   support\n",
            "\n",
            "         0.0       0.95      0.87      0.91        23\n",
            "         1.0       0.91      0.97      0.94        30\n",
            "\n",
            "    accuracy                           0.92        53\n",
            "   macro avg       0.93      0.92      0.92        53\n",
            "weighted avg       0.93      0.92      0.92        53\n",
            "\n",
            "Test F1 score: 0.9354838709677419\n",
            "Train F1 score: 0.96\n",
            "Iteration: 0\n",
            "Iteration: 5000\n",
            "              precision    recall  f1-score   support\n",
            "\n",
            "         0.0       0.83      0.87      0.85        23\n",
            "         1.0       0.90      0.87      0.88        30\n",
            "\n",
            "    accuracy                           0.87        53\n",
            "   macro avg       0.86      0.87      0.87        53\n",
            "weighted avg       0.87      0.87      0.87        53\n",
            "\n",
            "Test F1 score: 0.8813559322033899\n",
            "Train F1 score: 0.9223744292237442\n"
          ]
        },
        {
          "output_type": "execute_result",
          "data": {
            "text/plain": [
              "<matplotlib.legend.Legend at 0x7f26633cbd00>"
            ]
          },
          "metadata": {},
          "execution_count": 17
        },
        {
          "output_type": "display_data",
          "data": {
            "text/plain": [
              "<Figure size 432x288 with 1 Axes>"
            ],
            "image/png": "[encoded data removed]"
          },
          "metadata": {
            "needs_background": "light"
          }
        }
      ]
    },
    {
      "cell_type": "markdown",
      "source": [
        "##7. Use different learning rates and see model performance"
      ],
      "metadata": {
        "id": "hDUTUACuaKxR"
      }
    },
    {
      "cell_type": "code",
      "source": [
        "lrn_pool = np.array([1, 0.1, 0.01, 0.001, 0.0001]) # Array of different learning rates\n",
        "\n",
        "train_grd=[]\n",
        "test_grd=[]\n",
        "\n",
        "nitr=10000 # Number of iterations\n",
        "rate_results = np.zeros((nitr,lrn_pool.size)) # Initializing a zeros matrix to store\n",
        "                                              # the learning rate loss\n",
        "\n",
        "for i in range(0, lrn_pool.size):\n",
        "    logrg = LogisticReg() # Initializing a logistic regression instance\n",
        "    rg_dat = LogRegData(pth) # Getting the logistic regression data from the file path\n",
        "    rg_dat.split(tst_ratio=0.20, rnd_stat=100) # Splitting the data into test and train sets\n",
        "    rg_dat.dum_coder(rg_dat.x_train, rg_dat.x_test) # One hot encoding the x data\n",
        "    rg_dat.dum_coder(rg_dat.y_train, rg_dat.y_test, cat_dat=[0]) # One hot encoding the y data\n",
        "    grad_desc=GradDescent(learning_rate=lrn_pool[i], max_iters=nitr, alpha=0, beta=0)\n",
        "                                                              # Initializing gradient descent\n",
        "                                                              # with the learning rate corresponding\n",
        "                                                              # to an element in lrn_pool\n",
        "    logrg.fit(rg_dat.dum_x_train, rg_dat.dum_y_train,grad_desc) # Fitting the regression data\n",
        "\n",
        "    rate_results[:, i] = logrg.temp_ls # Adding the loss of this iteration to the results matrix\n",
        "\n",
        "    probability, predictoutput = logrg.predict(rg_dat.dum_x_test)  # Predicting the output from\n",
        "                                                                   # test values and storing it\n",
        "    probability_train, predictoutput_train = logrg.predict(rg_dat.dum_x_train)   # Predicting the output\n",
        "                                                                   # from train values and storing it\n",
        "    \n",
        "    # Plotting the data in a classification report\n",
        "    print(classification_report(rg_dat.dum_y_test, predictoutput))\n",
        "\n",
        "fig, ax = plt.subplots()\n",
        "a=plt.plot(rate_results)\n",
        "ax.spines['top'].set_visible(False)\n",
        "ax.spines['right'].set_visible(False)\n",
        "ax.set_ylabel('Loss')\n",
        "ax.set_xlabel('Iterations')\n",
        "ax.legend(a, [\"1\",\"0.1\",\"0.01\",\"0.001\", \"0.0001\"])"
      ],
      "metadata": {
        "colab": {
          "base_uri": "https://localhost:8080/",
          "height": 1000
        },
        "id": "9nW_QkDGaMSx",
        "outputId": "591302cd-ba54-459a-903b-60547e125ea0"
      },
      "execution_count": null,
      "outputs": [
        {
          "output_type": "stream",
          "name": "stdout",
          "text": [
            "Iteration: 0\n",
            "Iteration: 5000\n",
            "              precision    recall  f1-score   support\n",
            "\n",
            "         0.0       1.00      1.00      1.00        21\n",
            "         1.0       1.00      1.00      1.00        29\n",
            "\n",
            "    accuracy                           1.00        50\n",
            "   macro avg       1.00      1.00      1.00        50\n",
            "weighted avg       1.00      1.00      1.00        50\n",
            "\n",
            "Iteration: 0\n",
            "Iteration: 5000\n",
            "              precision    recall  f1-score   support\n",
            "\n",
            "         0.0       1.00      1.00      1.00        21\n",
            "         1.0       1.00      1.00      1.00        29\n",
            "\n",
            "    accuracy                           1.00        50\n",
            "   macro avg       1.00      1.00      1.00        50\n",
            "weighted avg       1.00      1.00      1.00        50\n",
            "\n",
            "Iteration: 0\n",
            "Iteration: 5000\n",
            "              precision    recall  f1-score   support\n",
            "\n",
            "         0.0       1.00      1.00      1.00        21\n",
            "         1.0       1.00      1.00      1.00        29\n",
            "\n",
            "    accuracy                           1.00        50\n",
            "   macro avg       1.00      1.00      1.00        50\n",
            "weighted avg       1.00      1.00      1.00        50\n",
            "\n",
            "Iteration: 0\n",
            "Iteration: 5000\n",
            "              precision    recall  f1-score   support\n",
            "\n",
            "         0.0       0.74      0.81      0.77        21\n",
            "         1.0       0.85      0.79      0.82        29\n",
            "\n",
            "    accuracy                           0.80        50\n",
            "   macro avg       0.80      0.80      0.80        50\n",
            "weighted avg       0.80      0.80      0.80        50\n",
            "\n",
            "Iteration: 0\n",
            "Iteration: 5000\n",
            "              precision    recall  f1-score   support\n",
            "\n",
            "         0.0       0.52      0.71      0.60        21\n",
            "         1.0       0.71      0.52      0.60        29\n",
            "\n",
            "    accuracy                           0.60        50\n",
            "   macro avg       0.62      0.62      0.60        50\n",
            "weighted avg       0.63      0.60      0.60        50\n",
            "\n",
            "[[3.06776779e-01 9.49529820e-01 9.88889898e-01 1.97581154e+00\n",
            "  6.96888416e-01]\n",
            " [2.74096288e-01 9.20758742e-01 9.86278953e-01 1.97525811e+00\n",
            "  6.96877482e-01]\n",
            " [2.41605646e-01 8.93031174e-01 9.83765826e-01 1.97475716e+00\n",
            "  6.96859514e-01]\n",
            " ...\n",
            " [7.80507766e-04 5.82456003e-03 3.25570442e-02 3.41957974e-01\n",
            "  5.74699816e-01]\n",
            " [7.80461143e-04 5.82405339e-03 3.25550098e-02 3.41922051e-01\n",
            "  5.74688958e-01]\n",
            " [7.80352019e-04 5.82360959e-03 3.25524980e-02 3.41887738e-01\n",
            "  5.74678326e-01]]\n"
          ]
        },
        {
          "output_type": "execute_result",
          "data": {
            "text/plain": [
              "<matplotlib.legend.Legend at 0x7f265cb6dd90>"
            ]
          },
          "metadata": {},
          "execution_count": 50
        },
        {
          "output_type": "display_data",
          "data": {
            "text/plain": [
              "<Figure size 432x288 with 1 Axes>"
            ],
            "image/png": "[encoded data removed]"
          },
          "metadata": {
            "needs_background": "light"
          }
        }
      ]
    },
    {
      "cell_type": "markdown",
      "source": [
        "## 8. Use momentum and see model performance"
      ],
      "metadata": {
        "id": "lVhI5RfGlfbZ"
      }
    },
    {
      "cell_type": "code",
      "source": [
        "train_grd=[]\n",
        "test_grd=[]\n",
        "\n",
        "nitr=10000 # Number of iterations\n",
        "\n",
        "# Initializing data lists for the loss without momentum and with momentum\n",
        "without_momntm = np.zeros((nitr,1))\n",
        "with_momntm = np.zeros((nitr,1))\n",
        "\n",
        "logrg = LogisticReg() # Initializing a logistic regression instance\n",
        "rg_dat = LogRegData(pth) # Getting the logistic regression data from the file path\n",
        "rg_dat.split(tst_ratio=0.20, rnd_stat=100) # Splitting the data into test and train sets\n",
        "rg_dat.dum_coder(rg_dat.x_train, rg_dat.x_test) # One hot encoding the x data\n",
        "rg_dat.dum_coder(rg_dat.y_train, rg_dat.y_test, cat_dat=[0]) # One hot encoding the y data\n",
        "grad_desc=GradDescent(learning_rate=0.005, max_iters=nitr, alpha=0.01, beta=0, mn_beta=0)\n",
        "                                                        # Initializing gradient descent without momentum\n",
        "logrg.fit(rg_dat.dum_x_train, rg_dat.dum_y_train, grad_desc, momentum=momntm) # Fitting the regression data\n",
        "without_momntm[:, 0] = logrg.temp_ls # Storing the loss without momentum\n",
        "\n",
        "grad_desc=GradDescent(learning_rate=0.005, max_iters=nitr, alpha=0.01, beta=0, mn_beta=0.9)\n",
        "                                                    # Initializing gradient descent with momentum of beta 0.9\n",
        "logrg.fit(rg_dat.dum_x_train, rg_dat.dum_y_train,grad_desc, momentum=momntm) # Fitting the regression data\n",
        "with_momntm[:, 0] = logrg.temp_ls # Storing the loss with momentum\n",
        "\n",
        "\n",
        "probability, predictoutput = logrg.predict(rg_dat.dum_x_test)  # Predicting the output from\n",
        "                                                               # test values and storing it\n",
        "probability_train, predictoutput_train = logrg.predict(rg_dat.dum_x_train)  # Predicting the output\n",
        "                                                                   # from train values and storing it\n",
        "\n",
        "# Plotting the data in a classification report\n",
        "print(classification_report(rg_dat.dum_y_test, predictoutput))\n",
        "    \n",
        "fig, ax = plt.subplots()\n",
        "plt.plot(without_momntm,color=\"orange\")\n",
        "plt.plot(with_momntm,color=\"blue\")\n",
        "ax.spines['top'].set_visible(False)\n",
        "ax.spines['right'].set_visible(False)\n",
        "ax.set_ylabel('Loss')\n",
        "ax.set_xlabel('Iterations')\n",
        "plt.legend([\"Without momentum\", \"With momentum\"])"
      ],
      "metadata": {
        "colab": {
          "base_uri": "https://localhost:8080/",
          "height": 529
        },
        "id": "PV-P8ylmlgWO",
        "outputId": "2f7fec20-8fff-4a74-977d-fe382f395731"
      },
      "execution_count": null,
      "outputs": [
        {
          "output_type": "stream",
          "name": "stdout",
          "text": [
            "Iteration: 0\n",
            "Iteration: 5000\n",
            "Iteration: 0\n",
            "Iteration: 5000\n",
            "              precision    recall  f1-score   support\n",
            "\n",
            "         0.0       1.00      1.00      1.00        21\n",
            "         1.0       1.00      1.00      1.00        29\n",
            "\n",
            "    accuracy                           1.00        50\n",
            "   macro avg       1.00      1.00      1.00        50\n",
            "weighted avg       1.00      1.00      1.00        50\n",
            "\n"
          ]
        },
        {
          "output_type": "execute_result",
          "data": {
            "text/plain": [
              "<matplotlib.legend.Legend at 0x7f2663080700>"
            ]
          },
          "metadata": {},
          "execution_count": 24
        },
        {
          "output_type": "display_data",
          "data": {
            "text/plain": [
              "<Figure size 432x288 with 1 Axes>"
            ],
            "image/png": "[encoded data removed]"
          },
          "metadata": {
            "needs_background": "light"
          }
        }
      ]
    },
    {
      "cell_type": "code",
      "source": [
        "print(rate_results)"
      ],
      "metadata": {
        "colab": {
          "base_uri": "https://localhost:8080/"
        },
        "id": "LrFJr3Q2nsLP",
        "outputId": "967e90ee-b2e1-4ab5-869c-b3a312088ef1"
      },
      "execution_count": null,
      "outputs": [
        {
          "output_type": "stream",
          "name": "stdout",
          "text": [
            "[[0.69297997]\n",
            " [0.69276571]\n",
            " [0.69255656]\n",
            " ...\n",
            " [0.18631412]\n",
            " [0.18630225]\n",
            " [0.18629071]]\n"
          ]
        }
      ]
    }
  ]
}